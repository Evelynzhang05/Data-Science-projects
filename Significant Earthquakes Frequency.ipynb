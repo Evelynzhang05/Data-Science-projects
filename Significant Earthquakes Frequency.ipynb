{
  "nbformat": 4,
  "nbformat_minor": 0,
  "metadata": {
    "colab": {
      "name": "Capstone 1 - Earthquake.ipynb",
      "provenance": []
    },
    "kernelspec": {
      "name": "python3",
      "display_name": "Python 3"
    }
  },
  "cells": [
    {
      "cell_type": "markdown",
      "metadata": {
        "id": "EUF0ojGMQ6Ld"
      },
      "source": [
        "# **Introduction**\n",
        "Earthquake is an inevitable natural disaster, and it causes huge losses to natural and human society. \n",
        "We now have the recent 50 years' Significant Earthquakes report, and will test if there is a relationship between different seasons/time and earthquake frequency, so we can understand the earthquake more and be more prepared for it."
      ]
    },
    {
      "cell_type": "markdown",
      "metadata": {
        "id": "e1ShOLURxgfr"
      },
      "source": [
        "# **Hypothesis**\n",
        "####H0:There is no significant difference in four different seasons for significant  earthquakes Frequency.\n",
        "####Ha:There is a significant difference between spring and other seasons for significant earthquakes Frequency.\n",
        "####Ha:There is a significant difference between summer and other seasons for significant earthquakes Frequency.\n",
        "####Ha:There is a significant difference between fall and other seasons for significant earthquakes Frequency.\n",
        "####Ha:There is a significant difference between winter and other seasons for significant earthquakes Frequency."
      ]
    },
    {
      "cell_type": "code",
      "metadata": {
        "colab": {
          "base_uri": "https://localhost:8080/",
          "height": 989
        },
        "id": "1TfFCqiUQ_X7",
        "outputId": "0ce0f550-994a-4b8b-972a-06c1f7a9521f"
      },
      "source": [
        "# Let's get ready to our data!\n",
        "\n",
        "import pandas as pd\n",
        "import numpy as np\n",
        "import matplotlib.pyplot as plt\n",
        "import scipy.stats as stats\n",
        "from statsmodels.stats.proportion import proportions_ztest\n",
        "\n",
        "%matplotlib inline\n",
        "\n",
        "#Let's import our dataset\n",
        "\n",
        "earthquakeinfo = pd.read_csv(\"https://earthquake.usgs.gov/fdsnws/event/1/query.csv?starttime=1970-12-20%2000:00:00&endtime=2020-12-27%2023:59:59&minmagnitude=6&eventtype=earthquake&orderby=time-asc\")\n",
        "\n",
        "#Let's check if our data works\n",
        "earthquakeinfo.info()\n",
        "earthquakeinfo.head()"
      ],
      "execution_count": null,
      "outputs": [
        {
          "output_type": "stream",
          "text": [
            "/usr/local/lib/python3.6/dist-packages/statsmodels/tools/_testing.py:19: FutureWarning: pandas.util.testing is deprecated. Use the functions in the public API at pandas.testing instead.\n",
            "  import pandas.util.testing as tm\n"
          ],
          "name": "stderr"
        },
        {
          "output_type": "stream",
          "text": [
            "<class 'pandas.core.frame.DataFrame'>\n",
            "RangeIndex: 6958 entries, 0 to 6957\n",
            "Data columns (total 22 columns):\n",
            " #   Column           Non-Null Count  Dtype  \n",
            "---  ------           --------------  -----  \n",
            " 0   time             6958 non-null   object \n",
            " 1   latitude         6958 non-null   float64\n",
            " 2   longitude        6958 non-null   float64\n",
            " 3   depth            6958 non-null   float64\n",
            " 4   mag              6958 non-null   float64\n",
            " 5   magType          6958 non-null   object \n",
            " 6   nst              2171 non-null   float64\n",
            " 7   gap              2761 non-null   float64\n",
            " 8   dmin             1020 non-null   float64\n",
            " 9   rms              5844 non-null   float64\n",
            " 10  net              6958 non-null   object \n",
            " 11  id               6958 non-null   object \n",
            " 12  updated          6958 non-null   object \n",
            " 13  place            6958 non-null   object \n",
            " 14  type             6958 non-null   object \n",
            " 15  horizontalError  868 non-null    float64\n",
            " 16  depthError       1625 non-null   float64\n",
            " 17  magError         500 non-null    float64\n",
            " 18  magNst           861 non-null    float64\n",
            " 19  status           6958 non-null   object \n",
            " 20  locationSource   6958 non-null   object \n",
            " 21  magSource        6958 non-null   object \n",
            "dtypes: float64(12), object(10)\n",
            "memory usage: 1.2+ MB\n"
          ],
          "name": "stdout"
        },
        {
          "output_type": "execute_result",
          "data": {
            "text/html": [
              "<div>\n",
              "<style scoped>\n",
              "    .dataframe tbody tr th:only-of-type {\n",
              "        vertical-align: middle;\n",
              "    }\n",
              "\n",
              "    .dataframe tbody tr th {\n",
              "        vertical-align: top;\n",
              "    }\n",
              "\n",
              "    .dataframe thead th {\n",
              "        text-align: right;\n",
              "    }\n",
              "</style>\n",
              "<table border=\"1\" class=\"dataframe\">\n",
              "  <thead>\n",
              "    <tr style=\"text-align: right;\">\n",
              "      <th></th>\n",
              "      <th>time</th>\n",
              "      <th>latitude</th>\n",
              "      <th>longitude</th>\n",
              "      <th>depth</th>\n",
              "      <th>mag</th>\n",
              "      <th>magType</th>\n",
              "      <th>nst</th>\n",
              "      <th>gap</th>\n",
              "      <th>dmin</th>\n",
              "      <th>rms</th>\n",
              "      <th>net</th>\n",
              "      <th>id</th>\n",
              "      <th>updated</th>\n",
              "      <th>place</th>\n",
              "      <th>type</th>\n",
              "      <th>horizontalError</th>\n",
              "      <th>depthError</th>\n",
              "      <th>magError</th>\n",
              "      <th>magNst</th>\n",
              "      <th>status</th>\n",
              "      <th>locationSource</th>\n",
              "      <th>magSource</th>\n",
              "    </tr>\n",
              "  </thead>\n",
              "  <tbody>\n",
              "    <tr>\n",
              "      <th>0</th>\n",
              "      <td>1970-12-28T20:03:26.000Z</td>\n",
              "      <td>-5.242</td>\n",
              "      <td>153.520</td>\n",
              "      <td>55.0</td>\n",
              "      <td>6.6</td>\n",
              "      <td>mw</td>\n",
              "      <td>NaN</td>\n",
              "      <td>NaN</td>\n",
              "      <td>NaN</td>\n",
              "      <td>NaN</td>\n",
              "      <td>iscgem</td>\n",
              "      <td>iscgem789605</td>\n",
              "      <td>2015-05-13T18:53:04.000Z</td>\n",
              "      <td>New Ireland region, Papua New Guinea</td>\n",
              "      <td>earthquake</td>\n",
              "      <td>NaN</td>\n",
              "      <td>NaN</td>\n",
              "      <td>NaN</td>\n",
              "      <td>NaN</td>\n",
              "      <td>automatic</td>\n",
              "      <td>iscgem</td>\n",
              "      <td>iscgem</td>\n",
              "    </tr>\n",
              "    <tr>\n",
              "      <th>1</th>\n",
              "      <td>1970-12-29T02:26:08.000Z</td>\n",
              "      <td>-10.436</td>\n",
              "      <td>161.395</td>\n",
              "      <td>30.0</td>\n",
              "      <td>6.7</td>\n",
              "      <td>mw</td>\n",
              "      <td>NaN</td>\n",
              "      <td>NaN</td>\n",
              "      <td>NaN</td>\n",
              "      <td>NaN</td>\n",
              "      <td>iscgem</td>\n",
              "      <td>iscgem789614</td>\n",
              "      <td>2020-07-09T23:52:27.385Z</td>\n",
              "      <td>Solomon Islands</td>\n",
              "      <td>earthquake</td>\n",
              "      <td>NaN</td>\n",
              "      <td>NaN</td>\n",
              "      <td>NaN</td>\n",
              "      <td>NaN</td>\n",
              "      <td>automatic</td>\n",
              "      <td>iscgem</td>\n",
              "      <td>iscgem</td>\n",
              "    </tr>\n",
              "    <tr>\n",
              "      <th>2</th>\n",
              "      <td>1971-01-01T07:58:03.000Z</td>\n",
              "      <td>-4.190</td>\n",
              "      <td>141.183</td>\n",
              "      <td>35.0</td>\n",
              "      <td>6.0</td>\n",
              "      <td>mw</td>\n",
              "      <td>NaN</td>\n",
              "      <td>NaN</td>\n",
              "      <td>NaN</td>\n",
              "      <td>NaN</td>\n",
              "      <td>iscgem</td>\n",
              "      <td>iscgem787816</td>\n",
              "      <td>2020-07-09T23:45:57.285Z</td>\n",
              "      <td>New Guinea, Papua New Guinea</td>\n",
              "      <td>earthquake</td>\n",
              "      <td>NaN</td>\n",
              "      <td>NaN</td>\n",
              "      <td>NaN</td>\n",
              "      <td>NaN</td>\n",
              "      <td>automatic</td>\n",
              "      <td>iscgem</td>\n",
              "      <td>iscgem</td>\n",
              "    </tr>\n",
              "    <tr>\n",
              "      <th>3</th>\n",
              "      <td>1971-01-03T17:35:41.000Z</td>\n",
              "      <td>-55.918</td>\n",
              "      <td>-2.668</td>\n",
              "      <td>15.0</td>\n",
              "      <td>7.1</td>\n",
              "      <td>mw</td>\n",
              "      <td>NaN</td>\n",
              "      <td>NaN</td>\n",
              "      <td>NaN</td>\n",
              "      <td>NaN</td>\n",
              "      <td>iscgem</td>\n",
              "      <td>iscgem787884</td>\n",
              "      <td>2015-05-13T18:53:04.000Z</td>\n",
              "      <td>southern Mid-Atlantic Ridge</td>\n",
              "      <td>earthquake</td>\n",
              "      <td>NaN</td>\n",
              "      <td>NaN</td>\n",
              "      <td>NaN</td>\n",
              "      <td>NaN</td>\n",
              "      <td>automatic</td>\n",
              "      <td>iscgem</td>\n",
              "      <td>iscgem</td>\n",
              "    </tr>\n",
              "    <tr>\n",
              "      <th>4</th>\n",
              "      <td>1971-01-08T14:45:31.000Z</td>\n",
              "      <td>47.341</td>\n",
              "      <td>154.247</td>\n",
              "      <td>35.0</td>\n",
              "      <td>6.2</td>\n",
              "      <td>mw</td>\n",
              "      <td>NaN</td>\n",
              "      <td>NaN</td>\n",
              "      <td>NaN</td>\n",
              "      <td>NaN</td>\n",
              "      <td>iscgem</td>\n",
              "      <td>iscgem787995</td>\n",
              "      <td>2015-05-13T18:53:04.000Z</td>\n",
              "      <td>Kuril Islands</td>\n",
              "      <td>earthquake</td>\n",
              "      <td>NaN</td>\n",
              "      <td>NaN</td>\n",
              "      <td>NaN</td>\n",
              "      <td>NaN</td>\n",
              "      <td>automatic</td>\n",
              "      <td>iscgem</td>\n",
              "      <td>iscgem</td>\n",
              "    </tr>\n",
              "  </tbody>\n",
              "</table>\n",
              "</div>"
            ],
            "text/plain": [
              "                       time  latitude  ...  locationSource  magSource\n",
              "0  1970-12-28T20:03:26.000Z    -5.242  ...          iscgem     iscgem\n",
              "1  1970-12-29T02:26:08.000Z   -10.436  ...          iscgem     iscgem\n",
              "2  1971-01-01T07:58:03.000Z    -4.190  ...          iscgem     iscgem\n",
              "3  1971-01-03T17:35:41.000Z   -55.918  ...          iscgem     iscgem\n",
              "4  1971-01-08T14:45:31.000Z    47.341  ...          iscgem     iscgem\n",
              "\n",
              "[5 rows x 22 columns]"
            ]
          },
          "metadata": {
            "tags": []
          },
          "execution_count": 1
        }
      ]
    },
    {
      "cell_type": "markdown",
      "metadata": {
        "id": "TtBTEzodRK71"
      },
      "source": [
        "### Since the seasons are different months for the Southern Hemisphere and Northern Hemisphere. The data set will be split into two DataFrames for the Southern Hemisphere and Northern Hemisphere by latitude. After that, we will determine which seasons that each earthquake occurs. \n",
        "\n",
        "- Latitude degree > 0 will be Northern Hemisphere\n",
        "- Latitude degree < 0 will be Southern Hemisphere\n",
        "- March, April, May will be Springtime\n",
        "- June, July, August will be Summertime\n",
        "- September, October, November will be Fall time\n",
        "- December, January, February will be Wintertime"
      ]
    },
    {
      "cell_type": "code",
      "metadata": {
        "id": "GK8btbR8RM3F"
      },
      "source": [
        "# Let's use Northern Hemisphere data in this test.\n",
        "\n",
        "N_Hemisphere = earthquakeinfo[earthquakeinfo['latitude'] > 0]\n",
        "EQ_NH_spring = N_Hemisphere[pd.DatetimeIndex(N_Hemisphere['time']).month.isin([3,4,5]) ]\n",
        "EQ_NH_summer = N_Hemisphere[pd.DatetimeIndex(N_Hemisphere['time']).month.isin([6,7,8]) ]\n",
        "EQ_NH_fall = N_Hemisphere[pd.DatetimeIndex(N_Hemisphere['time']).month.isin([9,10,11]) ]\n",
        "EQ_NH_Winter = N_Hemisphere[pd.DatetimeIndex(N_Hemisphere['time']).month.isin([12,1,2]) ]\n"
      ],
      "execution_count": null,
      "outputs": []
    },
    {
      "cell_type": "code",
      "metadata": {
        "colab": {
          "base_uri": "https://localhost:8080/",
          "height": 353
        },
        "id": "iTQsPXn-RWPv",
        "outputId": "bc56a5c8-39d0-42f4-c762-080acb068f5b"
      },
      "source": [
        "\n",
        "# Let's check the normality test of our data sets\n",
        "plt.hist(EQ_NH_spring['mag'], alpha = .5, color = \"red\")\n",
        "plt.hist(EQ_NH_summer['mag'], alpha = .5, color = \"green\")\n",
        "plt.hist(EQ_NH_fall['mag'], alpha = .5, color = \"yellow\")\n",
        "plt.hist(EQ_NH_Winter['mag'], alpha = .5, color = \"black\")\n",
        "\n",
        "plt.show()\n",
        "\n",
        "# Let's check the skewnesss and kurtosis of our data set\n",
        "print(stats.describe(EQ_NH_spring['mag']))\n",
        "print(stats.describe(EQ_NH_summer['mag']))\n",
        "print(stats.describe(EQ_NH_fall['mag']))\n",
        "print(stats.describe(EQ_NH_Winter['mag']))\n",
        "\n"
      ],
      "execution_count": null,
      "outputs": [
        {
          "output_type": "display_data",
          "data": {
            "image/png": "[encoded data removed]",
            "text/plain": [
              "<Figure size 432x288 with 1 Axes>"
            ]
          },
          "metadata": {
            "tags": [],
            "needs_background": "light"
          }
        },
        {
          "output_type": "stream",
          "text": [
            "DescribeResult(nobs=877, minmax=(6.0, 9.1), mean=6.380980615735462, variance=0.18315542998911818, skewness=1.9069960378722202, kurtosis=4.936138036982875)\n",
            "DescribeResult(nobs=748, minmax=(6.0, 7.9), mean=6.389211229946523, variance=0.16452936362204615, skewness=1.4682771863426953, kurtosis=1.8868275222395683)\n",
            "DescribeResult(nobs=754, minmax=(6.0, 8.3), mean=6.404336870026525, variance=0.19144690363215577, skewness=1.5349638630716582, kurtosis=2.3634665494208997)\n",
            "DescribeResult(nobs=710, minmax=(6.0, 9.1), mean=6.396619718309858, variance=0.18328898071078092, skewness=1.6208289695421805, kurtosis=3.4172298410756037)\n"
          ],
          "name": "stdout"
        }
      ]
    },
    {
      "cell_type": "markdown",
      "metadata": {
        "id": "Thor92ruRcjq"
      },
      "source": [
        "#### By looking at the histogram, these variables do not appear normally distributed. We will need to conduct a non-parametric test, which we will try to use a one-sample proportion z-test to compare the percentage of each seasons’ significant earthquake frequency. \n",
        "\n",
        "#### To use a one-sample proportion test, we should have our dataset follow the conditions below.\n",
        "\n",
        " - random sample from the population \n",
        " - population is 10 times larger than sample \n",
        " - n*p >= 10 and n*(1-p) >= 10, which n will be our sample size and p is the true population proportion"
      ]
    },
    {
      "cell_type": "code",
      "metadata": {
        "colab": {
          "base_uri": "https://localhost:8080/"
        },
        "id": "nxDpzWOCexnu",
        "outputId": "af193791-71b2-499f-b6f3-729d7f40a737"
      },
      "source": [
        "# lets get counts of the Northern Hemisphere as our population\n",
        "NH_count_row = N_Hemisphere.shape[1]\n",
        "print(count_row)"
      ],
      "execution_count": null,
      "outputs": [
        {
          "output_type": "stream",
          "text": [
            "3089\n"
          ],
          "name": "stdout"
        }
      ]
    },
    {
      "cell_type": "code",
      "metadata": {
        "colab": {
          "base_uri": "https://localhost:8080/",
          "height": 904
        },
        "id": "1cX7tf5skj_h",
        "outputId": "bab11ce4-93e5-42b4-cb9d-8776ff6133d1"
      },
      "source": [
        "# We are going to get 300 random samples from the Northern Hemisphere.\n",
        "\n",
        "sampleset_of_NH = N_Hemisphere.sample(300, random_state=0)\n",
        "\n",
        "# #Let's check if our sample set works\n",
        "sampleset_of_NH.info()\n",
        "sampleset_of_NH.head()"
      ],
      "execution_count": null,
      "outputs": [
        {
          "output_type": "stream",
          "text": [
            "<class 'pandas.core.frame.DataFrame'>\n",
            "Int64Index: 300 entries, 2181 to 2144\n",
            "Data columns (total 22 columns):\n",
            " #   Column           Non-Null Count  Dtype  \n",
            "---  ------           --------------  -----  \n",
            " 0   time             300 non-null    object \n",
            " 1   latitude         300 non-null    float64\n",
            " 2   longitude        300 non-null    float64\n",
            " 3   depth            300 non-null    float64\n",
            " 4   mag              300 non-null    float64\n",
            " 5   magType          300 non-null    object \n",
            " 6   nst              89 non-null     float64\n",
            " 7   gap              111 non-null    float64\n",
            " 8   dmin             44 non-null     float64\n",
            " 9   rms              254 non-null    float64\n",
            " 10  net              300 non-null    object \n",
            " 11  id               300 non-null    object \n",
            " 12  updated          300 non-null    object \n",
            " 13  place            300 non-null    object \n",
            " 14  type             300 non-null    object \n",
            " 15  horizontalError  40 non-null     float64\n",
            " 16  depthError       80 non-null     float64\n",
            " 17  magError         22 non-null     float64\n",
            " 18  magNst           45 non-null     float64\n",
            " 19  status           300 non-null    object \n",
            " 20  locationSource   300 non-null    object \n",
            " 21  magSource        300 non-null    object \n",
            "dtypes: float64(12), object(10)\n",
            "memory usage: 53.9+ KB\n"
          ],
          "name": "stdout"
        },
        {
          "output_type": "execute_result",
          "data": {
            "text/html": [
              "<div>\n",
              "<style scoped>\n",
              "    .dataframe tbody tr th:only-of-type {\n",
              "        vertical-align: middle;\n",
              "    }\n",
              "\n",
              "    .dataframe tbody tr th {\n",
              "        vertical-align: top;\n",
              "    }\n",
              "\n",
              "    .dataframe thead th {\n",
              "        text-align: right;\n",
              "    }\n",
              "</style>\n",
              "<table border=\"1\" class=\"dataframe\">\n",
              "  <thead>\n",
              "    <tr style=\"text-align: right;\">\n",
              "      <th></th>\n",
              "      <th>time</th>\n",
              "      <th>latitude</th>\n",
              "      <th>longitude</th>\n",
              "      <th>depth</th>\n",
              "      <th>mag</th>\n",
              "      <th>magType</th>\n",
              "      <th>nst</th>\n",
              "      <th>gap</th>\n",
              "      <th>dmin</th>\n",
              "      <th>rms</th>\n",
              "      <th>net</th>\n",
              "      <th>id</th>\n",
              "      <th>updated</th>\n",
              "      <th>place</th>\n",
              "      <th>type</th>\n",
              "      <th>horizontalError</th>\n",
              "      <th>depthError</th>\n",
              "      <th>magError</th>\n",
              "      <th>magNst</th>\n",
              "      <th>status</th>\n",
              "      <th>locationSource</th>\n",
              "      <th>magSource</th>\n",
              "    </tr>\n",
              "  </thead>\n",
              "  <tbody>\n",
              "    <tr>\n",
              "      <th>2181</th>\n",
              "      <td>1989-09-20T13:19:31.980Z</td>\n",
              "      <td>51.184</td>\n",
              "      <td>178.821</td>\n",
              "      <td>33.0</td>\n",
              "      <td>6.2</td>\n",
              "      <td>mw</td>\n",
              "      <td>NaN</td>\n",
              "      <td>NaN</td>\n",
              "      <td>NaN</td>\n",
              "      <td>1.10</td>\n",
              "      <td>us</td>\n",
              "      <td>usp0003ztv</td>\n",
              "      <td>2018-06-04T20:43:45.000Z</td>\n",
              "      <td>Rat Islands, Aleutian Islands, Alaska</td>\n",
              "      <td>earthquake</td>\n",
              "      <td>NaN</td>\n",
              "      <td>NaN</td>\n",
              "      <td>NaN</td>\n",
              "      <td>NaN</td>\n",
              "      <td>reviewed</td>\n",
              "      <td>us</td>\n",
              "      <td>hrv</td>\n",
              "    </tr>\n",
              "    <tr>\n",
              "      <th>5553</th>\n",
              "      <td>2011-03-09T21:24:01.680Z</td>\n",
              "      <td>38.296</td>\n",
              "      <td>142.808</td>\n",
              "      <td>15.0</td>\n",
              "      <td>6.5</td>\n",
              "      <td>mwc</td>\n",
              "      <td>224.0</td>\n",
              "      <td>39.6</td>\n",
              "      <td>NaN</td>\n",
              "      <td>0.99</td>\n",
              "      <td>us</td>\n",
              "      <td>usp000hvkh</td>\n",
              "      <td>2015-05-13T18:53:59.000Z</td>\n",
              "      <td>near the east coast of Honshu, Japan</td>\n",
              "      <td>earthquake</td>\n",
              "      <td>NaN</td>\n",
              "      <td>10.5</td>\n",
              "      <td>NaN</td>\n",
              "      <td>NaN</td>\n",
              "      <td>reviewed</td>\n",
              "      <td>us</td>\n",
              "      <td>gcmt</td>\n",
              "    </tr>\n",
              "    <tr>\n",
              "      <th>1526</th>\n",
              "      <td>1985-03-09T14:08:04.380Z</td>\n",
              "      <td>66.239</td>\n",
              "      <td>-150.029</td>\n",
              "      <td>11.8</td>\n",
              "      <td>6.2</td>\n",
              "      <td>mw</td>\n",
              "      <td>NaN</td>\n",
              "      <td>NaN</td>\n",
              "      <td>NaN</td>\n",
              "      <td>0.90</td>\n",
              "      <td>us</td>\n",
              "      <td>usp0002cmd</td>\n",
              "      <td>2018-06-04T20:43:45.000Z</td>\n",
              "      <td>northern Alaska</td>\n",
              "      <td>earthquake</td>\n",
              "      <td>NaN</td>\n",
              "      <td>NaN</td>\n",
              "      <td>NaN</td>\n",
              "      <td>NaN</td>\n",
              "      <td>reviewed</td>\n",
              "      <td>us</td>\n",
              "      <td>hrv</td>\n",
              "    </tr>\n",
              "    <tr>\n",
              "      <th>1498</th>\n",
              "      <td>1984-12-30T23:33:37.720Z</td>\n",
              "      <td>24.641</td>\n",
              "      <td>92.891</td>\n",
              "      <td>22.6</td>\n",
              "      <td>6.0</td>\n",
              "      <td>mw</td>\n",
              "      <td>NaN</td>\n",
              "      <td>NaN</td>\n",
              "      <td>NaN</td>\n",
              "      <td>1.10</td>\n",
              "      <td>us</td>\n",
              "      <td>usp0002ajx</td>\n",
              "      <td>2020-08-26T23:53:45.731Z</td>\n",
              "      <td>India-Bangladesh border region</td>\n",
              "      <td>earthquake</td>\n",
              "      <td>NaN</td>\n",
              "      <td>3.8</td>\n",
              "      <td>NaN</td>\n",
              "      <td>NaN</td>\n",
              "      <td>reviewed</td>\n",
              "      <td>us</td>\n",
              "      <td>hrv</td>\n",
              "    </tr>\n",
              "    <tr>\n",
              "      <th>3376</th>\n",
              "      <td>1997-02-27T21:30:36.570Z</td>\n",
              "      <td>29.985</td>\n",
              "      <td>67.977</td>\n",
              "      <td>33.0</td>\n",
              "      <td>6.0</td>\n",
              "      <td>mb</td>\n",
              "      <td>NaN</td>\n",
              "      <td>NaN</td>\n",
              "      <td>NaN</td>\n",
              "      <td>0.96</td>\n",
              "      <td>us</td>\n",
              "      <td>usp0007xx7</td>\n",
              "      <td>2020-09-15T19:22:48.975Z</td>\n",
              "      <td>Pakistan</td>\n",
              "      <td>earthquake</td>\n",
              "      <td>NaN</td>\n",
              "      <td>NaN</td>\n",
              "      <td>NaN</td>\n",
              "      <td>83.0</td>\n",
              "      <td>reviewed</td>\n",
              "      <td>us</td>\n",
              "      <td>us</td>\n",
              "    </tr>\n",
              "  </tbody>\n",
              "</table>\n",
              "</div>"
            ],
            "text/plain": [
              "                          time  latitude  ...  locationSource  magSource\n",
              "2181  1989-09-20T13:19:31.980Z    51.184  ...              us        hrv\n",
              "5553  2011-03-09T21:24:01.680Z    38.296  ...              us       gcmt\n",
              "1526  1985-03-09T14:08:04.380Z    66.239  ...              us        hrv\n",
              "1498  1984-12-30T23:33:37.720Z    24.641  ...              us        hrv\n",
              "3376  1997-02-27T21:30:36.570Z    29.985  ...              us         us\n",
              "\n",
              "[5 rows x 22 columns]"
            ]
          },
          "metadata": {
            "tags": []
          },
          "execution_count": 40
        }
      ]
    },
    {
      "cell_type": "markdown",
      "metadata": {
        "id": "JBej_0PBvcEu"
      },
      "source": [
        "#### We have 300 samples, and we have the first two conditions fulfilled for the one-sample proportion test.\n",
        "- random sample from the population\n",
        "- population is ten times larger than the sample\n",
        "\n",
        "#### For third condition:\n",
        "-  n = 300, p = 0.25 (since each seasons is 1/4 of an year)\n",
        "-  np >= 10 --> (300*0.25) = 75 >10\n",
        "-  n(1-p) >= 10 (300*0.75) = 225 >10\n",
        "\n",
        "#### We have the third condition fulfilled. \n",
        "# *Now, let's get started with our one-sample proportion test.*\n",
        "##H0:There is no significant difference in four different seasons for significant earthquakes Frequency.\n",
        "##Ha: There is a significant difference between spring and other seasons for significant earthquakes Frequency.\n"
      ]
    },
    {
      "cell_type": "code",
      "metadata": {
        "colab": {
          "base_uri": "https://localhost:8080/"
        },
        "id": "s-U21Jq3xY7u",
        "outputId": "e5408154-6456-4237-ce75-a69d81aef45d"
      },
      "source": [
        "# Let's classify which seasons that each earthquake occurs.\n",
        "sample_spring = sampleset_of_NH[pd.DatetimeIndex(sampleset_of_NH['time']).month.isin([3,4,5]) ]\n",
        "sample_summer = sampleset_of_NH[pd.DatetimeIndex(sampleset_of_NH['time']).month.isin([6,7,8]) ]\n",
        "sample_fall = sampleset_of_NH[pd.DatetimeIndex(sampleset_of_NH['time']).month.isin([9,10,11]) ]\n",
        "sample_winter = sampleset_of_NH[pd.DatetimeIndex(sampleset_of_NH['time']).month.isin([12,1,2]) ]\n",
        "\n",
        "# Let's test the spring sample proportion first\n",
        "NH_sample_count = sampleset_of_NH.shape[0] # get the nobs\n",
        "Spring_count = sample_spring.shape[0] # get the count\n",
        "print(Spring_count)\n",
        "\n",
        "proportions_ztest(count=Spring_count, nobs = NH_sample_count,value = 0.25)\n",
        "\n"
      ],
      "execution_count": null,
      "outputs": [
        {
          "output_type": "stream",
          "text": [
            "91\n"
          ],
          "name": "stdout"
        },
        {
          "output_type": "execute_result",
          "data": {
            "text/plain": [
              "(2.0094942637295423, 0.04448474241709023)"
            ]
          },
          "metadata": {
            "tags": []
          },
          "execution_count": 53
        }
      ]
    },
    {
      "cell_type": "markdown",
      "metadata": {
        "id": "D2PcxW8VidtH"
      },
      "source": [
        "# **Results**\n",
        "\n",
        "### According to the one proportion test result above, the p-value is < 0.05. We will reject the null hypothesis that there is no significant difference in four different seasons for significant earthquakes Frequency. \n",
        "\n",
        "### We can also confirm the significant difference between spring and other seasons for significant earthquakes Frequency."
      ]
    },
    {
      "cell_type": "markdown",
      "metadata": {
        "id": "z7XrNtUnltI-"
      },
      "source": [
        "#Next we are going to test the other three hypothesis."
      ]
    },
    {
      "cell_type": "markdown",
      "metadata": {
        "id": "ZXAzyirmwMn4"
      },
      "source": [
        "##Ha:There is a significant difference between summer and other seasons for significant earthquakes Frequency.\n"
      ]
    },
    {
      "cell_type": "code",
      "metadata": {
        "colab": {
          "base_uri": "https://localhost:8080/"
        },
        "id": "-A1mUOV1zEsM",
        "outputId": "0a5ceafb-ef46-477c-a9dd-c332085ff05e"
      },
      "source": [
        "Summer_count = sample_summer.shape[0] # get the count\n",
        "print(Summer_count)\n",
        "\n",
        "proportions_ztest(count=Summer_count, nobs = NH_sample_count,value = 0.25)"
      ],
      "execution_count": null,
      "outputs": [
        {
          "output_type": "stream",
          "text": [
            "79\n"
          ],
          "name": "stdout"
        },
        {
          "output_type": "execute_result",
          "data": {
            "text/plain": [
              "(0.5243375207009967, 0.6000438044346696)"
            ]
          },
          "metadata": {
            "tags": []
          },
          "execution_count": 48
        }
      ]
    },
    {
      "cell_type": "markdown",
      "metadata": {
        "id": "3ReXg8_lxG6Q"
      },
      "source": [
        "# **Results**\n",
        "#### p-value > 0.05, there is no significant difference between summer and other seasons for significant earthquakes frequency. Therefore, we will reject second alternative hypothesis."
      ]
    },
    {
      "cell_type": "markdown",
      "metadata": {
        "id": "250RbU4xxG_G"
      },
      "source": [
        "##Ha:There is a significant difference between fall and other seasons for significant earthquakes Frequency.\n"
      ]
    },
    {
      "cell_type": "code",
      "metadata": {
        "colab": {
          "base_uri": "https://localhost:8080/"
        },
        "id": "gVk8y_nw5jLo",
        "outputId": "d08feaaa-e913-4368-a5d1-2e1d7cc3d733"
      },
      "source": [
        "fall_count = sample_fall.shape[0] # get the count\n",
        "print(fall_count)\n",
        "\n",
        "proportions_ztest(count=fall_count, nobs = NH_sample_count,value = 0.25)"
      ],
      "execution_count": null,
      "outputs": [
        {
          "output_type": "stream",
          "text": [
            "70\n"
          ],
          "name": "stdout"
        },
        {
          "output_type": "execute_result",
          "data": {
            "text/plain": [
              "(-0.682523632789935, 0.49490790441001786)"
            ]
          },
          "metadata": {
            "tags": []
          },
          "execution_count": 50
        }
      ]
    },
    {
      "cell_type": "markdown",
      "metadata": {
        "id": "Wikqap06xg-9"
      },
      "source": [
        "# **Results**\n",
        "\n",
        "p-value > 0.05, there is no significant difference between fall and summer for significant earthquake frequency. Therefore, we will reject the second alternative hypothesis."
      ]
    },
    {
      "cell_type": "markdown",
      "metadata": {
        "id": "gQGRAaskxSvh"
      },
      "source": [
        "##Ha: There is a significant difference between winter and other seasons for significant earthquakes Frequency."
      ]
    },
    {
      "cell_type": "code",
      "metadata": {
        "colab": {
          "base_uri": "https://localhost:8080/"
        },
        "id": "t102dgRzxnrB",
        "outputId": "5bca5906-3918-47d8-fce5-e5141c0136ed"
      },
      "source": [
        "winter_count = sample_winter.shape[0] # get the count\n",
        "print(winter_count)\n",
        "\n",
        "proportions_ztest(count=winter_count, nobs = NH_sample_count,value = 0.25)"
      ],
      "execution_count": null,
      "outputs": [
        {
          "output_type": "stream",
          "text": [
            "60\n"
          ],
          "name": "stdout"
        },
        {
          "output_type": "execute_result",
          "data": {
            "text/plain": [
              "(-2.165063509461096, 0.030382821976577573)"
            ]
          },
          "metadata": {
            "tags": []
          },
          "execution_count": 52
        }
      ]
    },
    {
      "cell_type": "markdown",
      "metadata": {
        "id": "QMqNL4jKx1Rn"
      },
      "source": [
        "# **Results**\n",
        "P-value < 0.05, there is a significant difference between winter and other seasons for significant earthquakes Frequency. According to the count, we can tell winter is a lot less than the different three seasons. "
      ]
    },
    {
      "cell_type": "markdown",
      "metadata": {
        "id": "VSnJy4Ay1zU2"
      },
      "source": [
        "## *Let's conduct a histogram for samples of four seasons.*\n"
      ]
    },
    {
      "cell_type": "code",
      "metadata": {
        "colab": {
          "base_uri": "https://localhost:8080/",
          "height": 265
        },
        "id": "v2Aa8Xv26rrW",
        "outputId": "315dd7bd-6623-4845-eef6-61b1258e91be"
      },
      "source": [
        "plt.hist(sample_spring['mag'], alpha = .5, color = \"red\")\n",
        "plt.hist(sample_summer['mag'], alpha = .5, color = \"green\")\n",
        "plt.hist(sample_fall['mag'], alpha = .5, color = \"yellow\")\n",
        "plt.hist(sample_winter['mag'], alpha = .5, color = \"black\")\n",
        "plt.show()"
      ],
      "execution_count": null,
      "outputs": [
        {
          "output_type": "display_data",
          "data": {
            "image/png": "[encoded data removed]",
            "text/plain": [
              "<Figure size 432x288 with 1 Axes>"
            ]
          },
          "metadata": {
            "tags": [],
            "needs_background": "light"
          }
        }
      ]
    },
    {
      "cell_type": "markdown",
      "metadata": {
        "id": "D4XhE7vBoVRs"
      },
      "source": [
        "### The histogram shows us intuitively there is a significant difference between spring and other seasons. Also, there is no significant difference between summer and fall. Also, winter has a lower Frequency."
      ]
    },
    {
      "cell_type": "markdown",
      "metadata": {
        "id": "koBQE7Kq2FQr"
      },
      "source": [
        "## **Discussions and Recommendations**\n",
        "### Even though the data collected from the whole world, there might be some earthquakes that occur in the ocean that we were unable to detect. Some places are located on the active seismic belt, and that might also be the bias that will influence the analysis. If I could collect new data in this domain, I will classify the location by the seismic zone's activation and conduct the test in smaller areas. Depth info and the time info might also be useful to our predictions. \n",
        "\n",
        "\n",
        "### However, according to our test result, we can tell spring has a much higher probability of earthquakes occur. Therefore, governments and organizations will need to be more prepared for earthquake relief. The company can increase the first aid kit and emergency bag production volume for the spring quarter. The earthquake insurance companies can also arrange the expense budget for marketing and increase the advertising volume during the springtime. \n"
      ]
    },
    {
      "cell_type": "code",
      "metadata": {
        "id": "DJ7IoEIF2DqJ"
      },
      "source": [
        ""
      ],
      "execution_count": null,
      "outputs": []
    }
  ]
}